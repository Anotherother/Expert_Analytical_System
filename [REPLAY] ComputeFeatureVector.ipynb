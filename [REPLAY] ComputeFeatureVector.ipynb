{
 "cells": [
  {
   "cell_type": "code",
   "execution_count": 1,
   "metadata": {
    "nbpresent": {
     "id": "23536c6c-b508-4f45-b2bb-1573d586bdb5"
    }
   },
   "outputs": [],
   "source": [
    "import numpy as np\n",
    "import pandas as pd\n",
    "import scipy.io.wavfile as wav \n",
    "from scripts.replay_detection import ReplayDetection\n",
    "import scipy\n",
    "\n",
    "%matplotlib inline"
   ]
  },
  {
   "cell_type": "code",
   "execution_count": 12,
   "metadata": {},
   "outputs": [],
   "source": [
    "def calculateFeature(dataSet, typeSamples):\n",
    "    \n",
    "    directory = './protocol/'\n",
    "    directoryOurput = './computedFeatures/'\n",
    "    \n",
    "    if dataSet == 'train':\n",
    "        label = 'ASVspoof2017_train.trn'\n",
    "        directoryWav ='../../Antispoofing Datasets/ASVSpoof2017/ASVspoof2017_train_dev/wav/train/'\n",
    "\n",
    "    elif dataSet == 'dev':\n",
    "        label =  'ASVspoof2017_dev.trl'\n",
    "        directoryWav ='../../Antispoofing Datasets/ASVSpoof2017/ASVspoof2017_train_dev/wav/dev/'\n",
    "\n",
    "    elif dataSet == 'eva':\n",
    "        label = 'KEY_ASVspoof2017_eval_V2.trl'\n",
    "        directoryWav = '../../Antispoofing Datasets/ASVSpoof2017/ASVspoof2017_eval/eval/'\n",
    "    else:\n",
    "        print ('Error argument. Please check dataset name, which you enter!')\n",
    "    \n",
    "    df = pd.read_csv(directory + label, names= ['name', \"Type\", \"M\", \"S\", \"E\", \"P\", \"R\"], delimiter=' ')\n",
    "\n",
    "    if typeSamples == 'spoof':\n",
    "        fileNames = df[df.Type=='spoof'].name\n",
    "    elif typeSamples == 'original':\n",
    "        fileNames = df[df.Type=='genuine'].name\n",
    "    else:\n",
    "        print ('You input incorrect type sample. Please Enter as argument \"spoof\" or \"original\"! ')\n",
    "    \n",
    "\n",
    "    result = np.empty((0,8))\n",
    "    \n",
    "    dataframe = pd.DataFrame()\n",
    "    \n",
    "    for namefile in df.name:\n",
    "\n",
    "        x = ReplayDetection(directoryWav + namefile)\n",
    "\n",
    "        featureVector = [ x.sigmaAudio(), x.excess(), x.rangeSignal(), x.rangeSignalMean(),\\\n",
    "                                  x.variance(), x.asimetryCoefficient(), x.variation()]\n",
    "        dataframe= dataframe.append([featureVector])\n",
    "    \n",
    "    dataframe.columns = [ 'sigma', 'excess', 'range', 'rangeM', 'var', 'assimerty', 'cariation']\n",
    " \n",
    "    dataframe.to_csv('%sdata_%s_%s.csv' % (directoryOurput, dataSet,typeSamples),  index=False)\n",
    "    \n",
    "    return dataframe\n"
   ]
  },
  {
   "cell_type": "code",
   "execution_count": 13,
   "metadata": {},
   "outputs": [],
   "source": [
    "trainOriginal = calculateFeature('train', 'original')\n",
    "trainSpoof = calculateFeature('train', 'spoof')"
   ]
  },
  {
   "cell_type": "code",
   "execution_count": null,
   "metadata": {
    "collapsed": true
   },
   "outputs": [],
   "source": [
    "devOriginal = calculateFeature('dev', 'original')\n",
    "devSpoof = calculateFeature('dev', 'spoof')"
   ]
  },
  {
   "cell_type": "code",
   "execution_count": null,
   "metadata": {
    "collapsed": true
   },
   "outputs": [],
   "source": [
    "evaOriginal = calculateFeature('dev', 'original')\n",
    "evaSpoof = calculateFeature('dev', 'spoof')"
   ]
  },
  {
   "cell_type": "code",
   "execution_count": 14,
   "metadata": {},
   "outputs": [],
   "source": [
    "data_train_original = pd.read_csv('./computedFeatures/data_train_original.csv') "
   ]
  },
  {
   "cell_type": "code",
   "execution_count": 15,
   "metadata": {},
   "outputs": [
    {
     "data": {
      "text/html": [
       "<div>\n",
       "<table border=\"1\" class=\"dataframe\">\n",
       "  <thead>\n",
       "    <tr style=\"text-align: right;\">\n",
       "      <th></th>\n",
       "      <th>sigma</th>\n",
       "      <th>excess</th>\n",
       "      <th>range</th>\n",
       "      <th>rangeM</th>\n",
       "      <th>var</th>\n",
       "      <th>assimerty</th>\n",
       "      <th>cariation</th>\n",
       "    </tr>\n",
       "  </thead>\n",
       "  <tbody>\n",
       "    <tr>\n",
       "      <th>0</th>\n",
       "      <td>39.142832</td>\n",
       "      <td>62.108240</td>\n",
       "      <td>474</td>\n",
       "      <td>31.873762</td>\n",
       "      <td>1.743254e+07</td>\n",
       "      <td>7.008751</td>\n",
       "      <td>2.632129</td>\n",
       "    </tr>\n",
       "    <tr>\n",
       "      <th>1</th>\n",
       "      <td>23.125373</td>\n",
       "      <td>43.175029</td>\n",
       "      <td>294</td>\n",
       "      <td>25.443921</td>\n",
       "      <td>3.305685e+07</td>\n",
       "      <td>5.554098</td>\n",
       "      <td>2.001361</td>\n",
       "    </tr>\n",
       "    <tr>\n",
       "      <th>2</th>\n",
       "      <td>34.364074</td>\n",
       "      <td>71.875115</td>\n",
       "      <td>437</td>\n",
       "      <td>37.203372</td>\n",
       "      <td>1.828778e+07</td>\n",
       "      <td>7.715011</td>\n",
       "      <td>2.925537</td>\n",
       "    </tr>\n",
       "    <tr>\n",
       "      <th>3</th>\n",
       "      <td>21.519615</td>\n",
       "      <td>16.826132</td>\n",
       "      <td>180</td>\n",
       "      <td>13.613014</td>\n",
       "      <td>1.545065e+07</td>\n",
       "      <td>3.531736</td>\n",
       "      <td>1.627482</td>\n",
       "    </tr>\n",
       "    <tr>\n",
       "      <th>4</th>\n",
       "      <td>19.807448</td>\n",
       "      <td>7.018735</td>\n",
       "      <td>129</td>\n",
       "      <td>9.153701</td>\n",
       "      <td>2.293806e+07</td>\n",
       "      <td>2.450865</td>\n",
       "      <td>1.405515</td>\n",
       "    </tr>\n",
       "  </tbody>\n",
       "</table>\n",
       "</div>"
      ],
      "text/plain": [
       "       sigma     excess  range     rangeM           var  assimerty  cariation\n",
       "0  39.142832  62.108240    474  31.873762  1.743254e+07   7.008751   2.632129\n",
       "1  23.125373  43.175029    294  25.443921  3.305685e+07   5.554098   2.001361\n",
       "2  34.364074  71.875115    437  37.203372  1.828778e+07   7.715011   2.925537\n",
       "3  21.519615  16.826132    180  13.613014  1.545065e+07   3.531736   1.627482\n",
       "4  19.807448   7.018735    129   9.153701  2.293806e+07   2.450865   1.405515"
      ]
     },
     "execution_count": 15,
     "metadata": {},
     "output_type": "execute_result"
    }
   ],
   "source": [
    "data_train_original"
   ]
  },
  {
   "cell_type": "code",
   "execution_count": 27,
   "metadata": {
    "nbpresent": {
     "id": "b6df14f2-3f7d-4b31-b1a9-170a04d08008"
    }
   },
   "outputs": [
    {
     "name": "stdout",
     "output_type": "stream",
     "text": [
      "13306\n"
     ]
    }
   ],
   "source": [
    "dataframe = pd.read_csv('./protocol/KEY_ASVspoof2017_eval_V2.trl', names= ['name', \"type\"], delimiter=' ')\n",
    "\n",
    "label = dataframe.type\n",
    "y_test = np.zeros(len(label))\n",
    "print len(y_test)\n",
    "for i in range(len(label)):\n",
    "    if (label[i] == 'spoof'):\n",
    "        y_test[i] = 0\n",
    "    else: y_test[i] = 1\n",
    "        \n",
    "np.savetxt('./protocol/y_test.txt', y_test)"
   ]
  }
 ],
 "metadata": {
  "anaconda-cloud": {},
  "kernelspec": {
   "display_name": "Python 3",
   "language": "python",
   "name": "python3"
  },
  "language_info": {
   "codemirror_mode": {
    "name": "ipython",
    "version": 3
   },
   "file_extension": ".py",
   "mimetype": "text/x-python",
   "name": "python",
   "nbconvert_exporter": "python",
   "pygments_lexer": "ipython3",
   "version": "3.6.1"
  },
  "nbpresent": {
   "slides": {
    "0315f317-11bd-47cc-8345-fe98dde384f4": {
     "id": "0315f317-11bd-47cc-8345-fe98dde384f4",
     "prev": "b718220a-6753-4fbc-b71b-7ab27ac1f5bb",
     "regions": {
      "aab59aa8-8a79-4809-ae02-28c93310254e": {
       "attrs": {
        "height": 0.8,
        "width": 0.8,
        "x": 0.1,
        "y": 0.1
       },
       "content": {
        "cell": "6da33054-3acc-4b98-b14b-646e7d60374a",
        "part": "whole"
       },
       "id": "aab59aa8-8a79-4809-ae02-28c93310254e"
      }
     }
    },
    "0e4e9436-4902-486f-b2af-9171d4a75258": {
     "id": "0e4e9436-4902-486f-b2af-9171d4a75258",
     "prev": null,
     "regions": {
      "6b0c5f8d-9b4e-4507-abf7-13a26eb9b028": {
       "attrs": {
        "height": 0.8,
        "width": 0.8,
        "x": 0.1,
        "y": 0.1
       },
       "content": {
        "cell": "23536c6c-b508-4f45-b2bb-1573d586bdb5",
        "part": "whole"
       },
       "id": "6b0c5f8d-9b4e-4507-abf7-13a26eb9b028"
      }
     }
    },
    "1130341d-5636-4e2a-b0fd-d797c500cd63": {
     "id": "1130341d-5636-4e2a-b0fd-d797c500cd63",
     "prev": "37592988-0b5e-4518-9749-6b23817f1cb3",
     "regions": {
      "44b6e658-9678-440e-835c-92c84ef25367": {
       "attrs": {
        "height": 0.8,
        "width": 0.8,
        "x": 0.1,
        "y": 0.1
       },
       "content": {
        "cell": "77ba7527-e5af-4c44-9b55-81f8b3cfe30a",
        "part": "whole"
       },
       "id": "44b6e658-9678-440e-835c-92c84ef25367"
      }
     }
    },
    "167c2cb3-ea46-4ad6-a42c-2c26ef648902": {
     "id": "167c2cb3-ea46-4ad6-a42c-2c26ef648902",
     "prev": "d5270765-d490-45e6-a1ed-36b8fe952de9",
     "regions": {
      "05d2594d-15c8-44ff-8a43-27543e48bb83": {
       "attrs": {
        "height": 0.8,
        "width": 0.8,
        "x": 0.1,
        "y": 0.1
       },
       "content": {
        "cell": "c008b2f3-49d7-442d-a237-c4b641916009",
        "part": "whole"
       },
       "id": "05d2594d-15c8-44ff-8a43-27543e48bb83"
      }
     }
    },
    "1b078441-4dae-4612-8151-e48a35b500a9": {
     "id": "1b078441-4dae-4612-8151-e48a35b500a9",
     "prev": "cb307a5f-31b4-4272-94ac-d00be3348277",
     "regions": {
      "55b304f1-23b8-404a-8082-fa4a6cc064b2": {
       "attrs": {
        "height": 0.8,
        "width": 0.8,
        "x": 0.1,
        "y": 0.1
       },
       "content": {
        "cell": "e2257b59-2b22-4570-b344-a28d10430663",
        "part": "whole"
       },
       "id": "55b304f1-23b8-404a-8082-fa4a6cc064b2"
      }
     }
    },
    "37592988-0b5e-4518-9749-6b23817f1cb3": {
     "id": "37592988-0b5e-4518-9749-6b23817f1cb3",
     "prev": "d07faaec-eb0d-4623-8606-fdcf06ffac2d",
     "regions": {
      "288e9070-1545-406e-a426-7c3982081bbb": {
       "attrs": {
        "height": 0.8,
        "width": 0.8,
        "x": 0.1,
        "y": 0.1
       },
       "content": {
        "cell": "e2d92b04-1be3-4f5c-9066-c65894401840",
        "part": "whole"
       },
       "id": "288e9070-1545-406e-a426-7c3982081bbb"
      }
     }
    },
    "5510851a-8a38-4b0e-9bfa-80391d75c37b": {
     "id": "5510851a-8a38-4b0e-9bfa-80391d75c37b",
     "prev": "ddceb013-e092-4251-8079-9a5ad5a32af0",
     "regions": {
      "e06be1bb-7311-4c76-99e7-5459f98205f8": {
       "attrs": {
        "height": 0.8,
        "width": 0.8,
        "x": 0.1,
        "y": 0.1
       },
       "content": {
        "cell": "2eb6e767-7353-4592-84f5-6f6801e84a38",
        "part": "whole"
       },
       "id": "e06be1bb-7311-4c76-99e7-5459f98205f8"
      }
     }
    },
    "6afb97f5-5fc6-414a-b87f-f27e87a15990": {
     "id": "6afb97f5-5fc6-414a-b87f-f27e87a15990",
     "prev": "fc6e2c16-40cb-4fec-82be-09374ffafff4",
     "regions": {
      "8c3742f5-af30-4978-a7e7-eff123eedf48": {
       "attrs": {
        "height": 0.8,
        "width": 0.8,
        "x": 0.1,
        "y": 0.1
       },
       "content": {
        "cell": "6394984d-d8e1-4338-b20c-29917adcce5d",
        "part": "whole"
       },
       "id": "8c3742f5-af30-4978-a7e7-eff123eedf48"
      }
     }
    },
    "6bced581-b184-4db9-aaaf-6dfd9ff5d8a6": {
     "id": "6bced581-b184-4db9-aaaf-6dfd9ff5d8a6",
     "prev": "b8cfa593-6222-41dc-861c-1f6558b97000",
     "regions": {
      "5d342717-8275-4f5a-8930-c057c0ced05e": {
       "attrs": {
        "height": 0.8,
        "width": 0.8,
        "x": 0.1,
        "y": 0.1
       },
       "content": {
        "cell": "ceea5b3a-d5f3-442c-a518-7516364139c5",
        "part": "whole"
       },
       "id": "5d342717-8275-4f5a-8930-c057c0ced05e"
      }
     }
    },
    "836cb12b-5728-44b9-a5dc-d8777e335ed2": {
     "id": "836cb12b-5728-44b9-a5dc-d8777e335ed2",
     "prev": "1b078441-4dae-4612-8151-e48a35b500a9",
     "regions": {
      "e7b4a788-6534-4c5f-81d9-e6a90d81d73a": {
       "attrs": {
        "height": 0.8,
        "width": 0.8,
        "x": 0.1,
        "y": 0.1
       },
       "content": {
        "cell": "cd0c7307-d679-407c-8a1a-14347e65e24e",
        "part": "whole"
       },
       "id": "e7b4a788-6534-4c5f-81d9-e6a90d81d73a"
      }
     }
    },
    "83fd3bb8-7b90-48e5-a5b8-2f530af16515": {
     "id": "83fd3bb8-7b90-48e5-a5b8-2f530af16515",
     "prev": "9f27ecf3-d31a-4053-9171-8b94bd60a565",
     "regions": {
      "6e24f98c-64e4-4ae2-bd7a-c57e377dc432": {
       "attrs": {
        "height": 0.8,
        "width": 0.8,
        "x": 0.1,
        "y": 0.1
       },
       "content": {
        "cell": "aed892f8-1ba4-4de7-a27f-bb9e595e4314",
        "part": "whole"
       },
       "id": "6e24f98c-64e4-4ae2-bd7a-c57e377dc432"
      }
     }
    },
    "9f27ecf3-d31a-4053-9171-8b94bd60a565": {
     "id": "9f27ecf3-d31a-4053-9171-8b94bd60a565",
     "prev": "5510851a-8a38-4b0e-9bfa-80391d75c37b",
     "regions": {
      "c2ef4be5-9c9c-4639-acb4-c5a67c240398": {
       "attrs": {
        "height": 0.8,
        "width": 0.8,
        "x": 0.1,
        "y": 0.1
       },
       "content": {
        "cell": "15d6c8c7-f6bb-481a-8162-1e01d5b990ec",
        "part": "whole"
       },
       "id": "c2ef4be5-9c9c-4639-acb4-c5a67c240398"
      }
     }
    },
    "b718220a-6753-4fbc-b71b-7ab27ac1f5bb": {
     "id": "b718220a-6753-4fbc-b71b-7ab27ac1f5bb",
     "prev": "167c2cb3-ea46-4ad6-a42c-2c26ef648902",
     "regions": {
      "0f64440c-fe12-4239-ac2f-10a1e57a6193": {
       "attrs": {
        "height": 0.8,
        "width": 0.8,
        "x": 0.1,
        "y": 0.1
       },
       "content": {
        "cell": "4f3952e0-4936-4742-8220-42d4d04b5782",
        "part": "whole"
       },
       "id": "0f64440c-fe12-4239-ac2f-10a1e57a6193"
      }
     }
    },
    "b8cfa593-6222-41dc-861c-1f6558b97000": {
     "id": "b8cfa593-6222-41dc-861c-1f6558b97000",
     "prev": "6afb97f5-5fc6-414a-b87f-f27e87a15990",
     "regions": {
      "fc6c60c0-9951-423f-9054-a5565bebbc48": {
       "attrs": {
        "height": 0.8,
        "width": 0.8,
        "x": 0.1,
        "y": 0.1
       },
       "content": {
        "cell": "5511f639-308b-48b5-8e34-7c70501588ef",
        "part": "whole"
       },
       "id": "fc6c60c0-9951-423f-9054-a5565bebbc48"
      }
     }
    },
    "c5899b78-a312-4f70-8b83-3c01d091f985": {
     "id": "c5899b78-a312-4f70-8b83-3c01d091f985",
     "prev": "1130341d-5636-4e2a-b0fd-d797c500cd63",
     "regions": {
      "55e542ec-dcc7-434a-9c21-97da64b343b0": {
       "attrs": {
        "height": 0.8,
        "width": 0.8,
        "x": 0.1,
        "y": 0.1
       },
       "content": {
        "cell": "1bf8536e-e122-47f9-9547-3d5864bef073",
        "part": "whole"
       },
       "id": "55e542ec-dcc7-434a-9c21-97da64b343b0"
      }
     }
    },
    "c78e8c82-7322-45ba-a14f-7fe2299d430c": {
     "id": "c78e8c82-7322-45ba-a14f-7fe2299d430c",
     "prev": "83fd3bb8-7b90-48e5-a5b8-2f530af16515",
     "regions": {
      "8d1034b8-9d38-410a-acd1-69eec0427455": {
       "attrs": {
        "height": 0.8,
        "width": 0.8,
        "x": 0.1,
        "y": 0.1
       },
       "content": {
        "cell": "62e7db07-23dd-4d35-ac59-72f6b839a20b",
        "part": "whole"
       },
       "id": "8d1034b8-9d38-410a-acd1-69eec0427455"
      }
     }
    },
    "cb307a5f-31b4-4272-94ac-d00be3348277": {
     "id": "cb307a5f-31b4-4272-94ac-d00be3348277",
     "prev": "f432149f-f241-468a-a7fe-971739b4fa5c",
     "regions": {
      "1b67cf20-a105-4595-8d46-3b0ff0a90123": {
       "attrs": {
        "height": 0.8,
        "width": 0.8,
        "x": 0.1,
        "y": 0.1
       },
       "content": {
        "cell": "9a993f51-83dd-436e-b96e-5f9482edc563",
        "part": "whole"
       },
       "id": "1b67cf20-a105-4595-8d46-3b0ff0a90123"
      }
     }
    },
    "d07faaec-eb0d-4623-8606-fdcf06ffac2d": {
     "id": "d07faaec-eb0d-4623-8606-fdcf06ffac2d",
     "prev": "836cb12b-5728-44b9-a5dc-d8777e335ed2",
     "regions": {
      "e1b02c7b-2df8-49a7-8830-6092fc6a6c92": {
       "attrs": {
        "height": 0.8,
        "width": 0.8,
        "x": 0.1,
        "y": 0.1
       },
       "content": {
        "cell": "b9f26258-05d5-4943-a097-a32f4a924196",
        "part": "whole"
       },
       "id": "e1b02c7b-2df8-49a7-8830-6092fc6a6c92"
      }
     }
    },
    "d5270765-d490-45e6-a1ed-36b8fe952de9": {
     "id": "d5270765-d490-45e6-a1ed-36b8fe952de9",
     "prev": "e2d457be-06a2-4221-b0ae-7bd04aff56aa",
     "regions": {
      "61db5d88-6bf7-463b-92fe-cacc4853be17": {
       "attrs": {
        "height": 0.8,
        "width": 0.8,
        "x": 0.1,
        "y": 0.1
       },
       "content": {
        "cell": "cd2fafdd-cea7-416c-8596-7437e227c70b",
        "part": "whole"
       },
       "id": "61db5d88-6bf7-463b-92fe-cacc4853be17"
      }
     }
    },
    "d67b9563-e222-4c4c-95e1-d1dd189414db": {
     "id": "d67b9563-e222-4c4c-95e1-d1dd189414db",
     "prev": "c5899b78-a312-4f70-8b83-3c01d091f985",
     "regions": {
      "04583dad-a381-47ac-acca-d4a035ae9353": {
       "attrs": {
        "height": 0.8,
        "width": 0.8,
        "x": 0.1,
        "y": 0.1
       },
       "content": {
        "cell": "2c9a5917-22ee-4ad6-9024-8b5de07bdef6",
        "part": "whole"
       },
       "id": "04583dad-a381-47ac-acca-d4a035ae9353"
      }
     }
    },
    "ddceb013-e092-4251-8079-9a5ad5a32af0": {
     "id": "ddceb013-e092-4251-8079-9a5ad5a32af0",
     "prev": "d67b9563-e222-4c4c-95e1-d1dd189414db",
     "regions": {
      "5a07eb41-5ea9-41f5-8821-e79efd51f4d3": {
       "attrs": {
        "height": 0.8,
        "width": 0.8,
        "x": 0.1,
        "y": 0.1
       },
       "content": {
        "cell": "d25026d5-0932-4ac5-ba9e-92b0fdab70ab",
        "part": "whole"
       },
       "id": "5a07eb41-5ea9-41f5-8821-e79efd51f4d3"
      }
     }
    },
    "e13f9980-1904-4cb6-a1b0-3641098f79bb": {
     "id": "e13f9980-1904-4cb6-a1b0-3641098f79bb",
     "prev": "0e4e9436-4902-486f-b2af-9171d4a75258",
     "regions": {
      "5b574b0d-2893-4798-8125-95d260d27535": {
       "attrs": {
        "height": 0.8,
        "width": 0.8,
        "x": 0.1,
        "y": 0.1
       },
       "content": {
        "cell": "07b476f1-0af3-4359-a4ec-fe3babe935be",
        "part": "whole"
       },
       "id": "5b574b0d-2893-4798-8125-95d260d27535"
      }
     }
    },
    "e2d457be-06a2-4221-b0ae-7bd04aff56aa": {
     "id": "e2d457be-06a2-4221-b0ae-7bd04aff56aa",
     "prev": "6bced581-b184-4db9-aaaf-6dfd9ff5d8a6",
     "regions": {
      "95a33389-871e-4b12-9278-42ce348bf784": {
       "attrs": {
        "height": 0.8,
        "width": 0.8,
        "x": 0.1,
        "y": 0.1
       },
       "content": {
        "cell": "53cfbc03-37ce-47f6-9849-04b82d760e76",
        "part": "whole"
       },
       "id": "95a33389-871e-4b12-9278-42ce348bf784"
      }
     }
    },
    "f0f07367-b7ce-4c4c-aebd-f9a619032cec": {
     "id": "f0f07367-b7ce-4c4c-aebd-f9a619032cec",
     "prev": "e13f9980-1904-4cb6-a1b0-3641098f79bb",
     "regions": {
      "fabb6917-f868-4351-a52c-befa0b4ac5f5": {
       "attrs": {
        "height": 0.8,
        "width": 0.8,
        "x": 0.1,
        "y": 0.1
       },
       "content": {
        "cell": "5c8d2cff-ea37-424f-a5dd-51d7d96f59b6",
        "part": "whole"
       },
       "id": "fabb6917-f868-4351-a52c-befa0b4ac5f5"
      }
     }
    },
    "f1094068-4e1c-496b-983a-c1ed1a7f9ed1": {
     "id": "f1094068-4e1c-496b-983a-c1ed1a7f9ed1",
     "prev": "c78e8c82-7322-45ba-a14f-7fe2299d430c",
     "regions": {
      "d605c2bb-8196-40cc-83e3-fbdf29721282": {
       "attrs": {
        "height": 0.8,
        "width": 0.8,
        "x": 0.1,
        "y": 0.1
       },
       "content": {
        "cell": "b6df14f2-3f7d-4b31-b1a9-170a04d08008",
        "part": "whole"
       },
       "id": "d605c2bb-8196-40cc-83e3-fbdf29721282"
      }
     }
    },
    "f432149f-f241-468a-a7fe-971739b4fa5c": {
     "id": "f432149f-f241-468a-a7fe-971739b4fa5c",
     "prev": "0315f317-11bd-47cc-8345-fe98dde384f4",
     "regions": {
      "0b33dd91-c7d0-45cb-b797-9f8c5251c489": {
       "attrs": {
        "height": 0.8,
        "width": 0.8,
        "x": 0.1,
        "y": 0.1
       },
       "content": {
        "cell": "864c3805-a5f3-4c75-93b0-32624ad11a7b",
        "part": "whole"
       },
       "id": "0b33dd91-c7d0-45cb-b797-9f8c5251c489"
      }
     }
    },
    "fc6e2c16-40cb-4fec-82be-09374ffafff4": {
     "id": "fc6e2c16-40cb-4fec-82be-09374ffafff4",
     "prev": "f0f07367-b7ce-4c4c-aebd-f9a619032cec",
     "regions": {
      "a30d1bc4-d76a-445a-990a-e7bcab87e24d": {
       "attrs": {
        "height": 0.8,
        "width": 0.8,
        "x": 0.1,
        "y": 0.1
       },
       "content": {
        "cell": "7ed0cc3d-8ccd-494a-865c-04352ad1f60f",
        "part": "whole"
       },
       "id": "a30d1bc4-d76a-445a-990a-e7bcab87e24d"
      }
     }
    }
   },
   "themes": {}
  }
 },
 "nbformat": 4,
 "nbformat_minor": 1
}
